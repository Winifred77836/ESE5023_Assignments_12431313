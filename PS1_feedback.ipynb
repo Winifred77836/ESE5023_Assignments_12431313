{
 "cells": [
  {
   "cell_type": "markdown",
   "metadata": {},
   "source": [
    "### Score: `[95]`\n",
    "\n",
    "Q1. `[11]` Very Good job!\n",
    "\n",
    "Q2. `[11]` Great job!\n",
    "\n",
    "Q3. `[9+5]` 注意求的是和为某一定值的方式（路径）数量！\n",
    "\n",
    "Q4. `[5.5+12+5]` 子集选取方式有误。\n",
    "\n",
    "Q5. `[5+27.5+4]` 5.3取平均值\n",
    "\n",
    "各题注释用`### Note`给出，请自行查阅。"
   ]
  },
  {
   "cell_type": "markdown",
   "metadata": {},
   "source": [
    "**Collaboration:**  \n",
    "\n",
    "Collaboration on solving the assignment is allowed, after you have thought about the problem sets on your own. It is also OK to get clarification (but not solutions) from online resources, again after you have thought about the problem sets on your own. \n",
    "\n",
    "There are two requirements for collaboration: \n",
    "\n",
    "* Cite your collaborators **fully and completely** (*e.g.*, \"XXX explained to me what is asked in problem set 3\"). Or cite online resources (*e.g.*, \"I got inspired by reading XXX\") that helped you.\n",
    "\n",
    "* Write your scripts and report **independently** - the scripts and report must come from you only."
   ]
  },
  {
   "cell_type": "markdown",
   "metadata": {},
   "source": [
    "# 1. Flowchart \n",
    "\n",
    "Write a function `Print_values` with arguments `a`, `b`, and `c` to reflect the following flowchart. Here the purple parallelogram operator on a list `[x, y, z]` is to compute and print `x+y-10z`. Try your output with some random `a`, `b`, and `c` values. Report your output when `a = 10, b = 5, c = 1`."
   ]
  },
  {
   "cell_type": "code",
   "execution_count": 3,
   "metadata": {},
   "outputs": [
    {
     "name": "stdout",
     "output_type": "stream",
     "text": [
      "a=10,b=5,c=1时结果是 5\n"
     ]
    }
   ],
   "source": [
    "def Print_values(a,b,c):\n",
    "    x,y,z=0,0,0\n",
    "    if a>b:\n",
    "        if b>c:\n",
    "            x,y,z=a,b,c\n",
    "        else:\n",
    "            if a>c:\n",
    "                x,y,z=a,c,b\n",
    "            else:\n",
    "                x,y,z=c,a,b\n",
    "    else:\n",
    "        if b>c:\n",
    "            return\n",
    "        else:\n",
    "            x,y,z=c,b,a\n",
    "    result=x+y-10*z\n",
    "    return result\n",
    "print(\"a=10,b=5,c=1时结果是\",Print_values(a=10,b=5,c=1))"
   ]
  },
  {
   "cell_type": "markdown",
   "metadata": {},
   "source": [
    "Report your output when `a = 10, b = 5, c = 1`: [ 5 ]"
   ]
  },
  {
   "cell_type": "markdown",
   "metadata": {},
   "source": [
    "[ a=10,b=5,c=1时结果是 5]\n",
    "应用if语句让x,y,z取得对应的a,b,c"
   ]
  },
  {
   "cell_type": "markdown",
   "metadata": {},
   "source": [
    "# 2. Continuous ceiling function\n",
    "\n",
    "Given a list with `N` positive integers. For every element `x` of the list, find the value of continuous ceiling function defined as `F(x) = F(ceil(x/3)) + 2x`, where `F(1) = 1`. "
   ]
  },
  {
   "cell_type": "code",
   "execution_count": 4,
   "metadata": {},
   "outputs": [
    {
     "name": "stdout",
     "output_type": "stream",
     "text": [
      "[1, 5, 7, 13, 15, 17, 21, 23, 25]\n"
     ]
    }
   ],
   "source": [
    "import math\n",
    "#定义函数\n",
    "def F(x):\n",
    "    if x == 1:\n",
    "        return 1\n",
    "    else:\n",
    "        return F(math.ceil(x / 3)) + 2 * x\n",
    "#给列表N和结果输出列表RESULT\n",
    "N=[1,2,3,4,5,6,7,8,9]\n",
    "RESULT = []\n",
    "#遍历列表并输出\n",
    "for i in N:\n",
    "    RESULT.append(F(i))\n",
    "print(RESULT)"
   ]
  },
  {
   "cell_type": "markdown",
   "metadata": {},
   "source": [
    "[ 结果：[1, 5, 7, 13, 15, 17, 21, 23, 25] ]\n",
    "点定义函数，再设置列表，遍历列表输出答案"
   ]
  },
  {
   "cell_type": "markdown",
   "metadata": {},
   "source": [
    "# 3. Dice rolling\n",
    "\n",
    "**3.1** Given `10` dice each with `6` faces, numbered from `1` to `6`. Write a function `Find_number_of_ways` to find the number of ways to get sum `x`, defined as the sum of values on each face when all the dice are thrown."
   ]
  },
  {
   "cell_type": "code",
   "execution_count": 2,
   "metadata": {},
   "outputs": [
    {
     "name": "stdout",
     "output_type": "stream",
     "text": [
      "217\n"
     ]
    }
   ],
   "source": [
    "import random\n",
    "#定义函数\n",
    "def Find_number_of_ways(sum_x):\n",
    "    x=0\n",
    "    #计算总的骰子的和\n",
    "    for i in range(sum_x):\n",
    "        #计算每个骰子的面的和\n",
    "        for j in range(6):\n",
    "            x+=random.randint(1, 6)\n",
    "    return x   \n",
    "#计算10的骰子的和\n",
    "print(Find_number_of_ways(10))\n",
    "\n",
    "### Note: 注意题目要求是要找到求特定和的“方式数”，比如10个骰子和为10只有1种方式"
   ]
  },
  {
   "cell_type": "markdown",
   "metadata": {},
   "source": [
    "**3.2** Count the number of ways for any `x` from `10` to `60`, assign the number of ways to a list called `Number_of_ways`, so which `x` yields the maximum of `Number_of_ways`?"
   ]
  },
  {
   "cell_type": "code",
   "execution_count": 19,
   "metadata": {},
   "outputs": [
    {
     "name": "stdout",
     "output_type": "stream",
     "text": [
      "x的最大值是59\n"
     ]
    }
   ],
   "source": [
    "#创建列表\n",
    "Number_of_ways=[]\n",
    "#编辑10~60个骰子的面数和的列表\n",
    "for sum_x in range(10, 61):\n",
    "    Number_of_ways.append(Find_number_of_ways(sum_x))\n",
    "#找出最大值\n",
    "maximum = max(Number_of_ways)\n",
    "#找出最大值对应的骰子数\n",
    "max_x=Number_of_ways.index(maximum)+10\n",
    "print(\"x的最大值是\"+str(max_x))\n",
    "\n",
    "### Note: 本题思路是对的，但是上面一问函数定义有误奥"
   ]
  },
  {
   "cell_type": "markdown",
   "metadata": {},
   "source": [
    "So which `x` yields the maximum of `Number_of_ways`? [60 ]"
   ]
  },
  {
   "cell_type": "markdown",
   "metadata": {},
   "source": [
    "[ 用循环，先计算每个骰子的面的和，再计算总的骰子的和 ]"
   ]
  },
  {
   "cell_type": "markdown",
   "metadata": {},
   "source": [
    "# 4. Dynamic programming\n",
    "\n",
    "**4.1 [5 points]** Write a function `Random_integer` to fill an array of `N` elements by randomly selecting integers from `0` to `10`."
   ]
  },
  {
   "cell_type": "code",
   "execution_count": 11,
   "metadata": {},
   "outputs": [
    {
     "name": "stdout",
     "output_type": "stream",
     "text": [
      "输入一个整数N: 4\n"
     ]
    },
    {
     "name": "stdout",
     "output_type": "stream",
     "text": [
      "[1, 6, 8, 2]\n"
     ]
    }
   ],
   "source": [
    "import random\n",
    "#定义函数\n",
    "def Random_integer(N):\n",
    "    #创建空列表存储结果\n",
    "    result = []\n",
    "    #循环N次\n",
    "    for i in range(N):\n",
    "        result.append(random.randint(0, 10))\n",
    "    return result\n",
    "#结果输出\n",
    "print(Random_integer(int(input(\"输入一个整数N:\"))))"
   ]
  },
  {
   "cell_type": "markdown",
   "metadata": {},
   "source": [
    "**4.2 [15 points]** Write a function `Sum_averages` to compute the sum of the average of all subsets of the array. For example, given an array of `[1, 2, 3]`, you `Sum_averages` function should compute the sum of: average of `[1]`, average of `[2]`, average of `[3]`,  average of `[1, 2]`, average of `[1, 3]`, average of `[2, 3]`, and average of `[1, 2, 3]`.  "
   ]
  },
  {
   "cell_type": "code",
   "execution_count": 1,
   "metadata": {},
   "outputs": [
    {
     "name": "stdout",
     "output_type": "stream",
     "text": [
      "结果是([[1], [2], [6], [6], [8], [1, 2], [2, 6], [6, 6], [6, 8], [1, 2, 6], [2, 6, 6], [6, 6, 8], [1, 2, 6, 6], [2, 6, 6, 8], [1, 2, 6, 6, 8]], 69.68333333333332)\n"
     ]
    }
   ],
   "source": [
    "def Sum_averages(array):\n",
    "    #建立总集合\n",
    "    subsets=[]\n",
    "    total_avg = 0\n",
    "    n = len(array)\n",
    "    # 生成非空子集\n",
    "    for i in range(1, n+1):  #1~n \n",
    "        for j in range(n):\n",
    "            if j+i<=n:  # 从索引j开始取长度为i的子集\n",
    "                subset=array[j:j+i]   #长度为i的子集\n",
    "                ### Note: 取子集方式有误，不是简单的连续数哦\n",
    "                subsets.append(subset) \n",
    "                # 计算平均值\n",
    "                avg=sum(subset)/len(subset)  \n",
    "                total_avg+=avg\n",
    "\n",
    "    return subsets, total_avg\n",
    "#使用\n",
    "example = [1, 2, 6, 6, 8]\n",
    "print(\"结果是\"+str(Sum_averages(example)))\n",
    "### Note:比如输入array = [1, 2, 6, 6, 8], 结果应为142.6"
   ]
  },
  {
   "cell_type": "markdown",
   "metadata": {},
   "source": [
    "**4.3 [5 points]** Call `Sum_averages` with `N` increasing from `1` to `100`, assign the output to a list called `Total_sum_averages`. Plot `Total_sum_averages`, describe what you see.\n"
   ]
  },
  {
   "cell_type": "code",
   "execution_count": 17,
   "metadata": {},
   "outputs": [
    {
     "data": {
      "image/png": "[encoded data removed]",
      "text/plain": [
       "<Figure size 640x480 with 1 Axes>"
      ]
     },
     "metadata": {},
     "output_type": "display_data"
    }
   ],
   "source": [
    "# 计算从 1 到 100 的平均值总和\n",
    "Total_sum_averages = []\n",
    "for N in range(1, 101):#1~100\n",
    "    #创建数组\n",
    "    lit = list(range(1, N + 1))  \n",
    "    subsets,total_avg=Sum_averages(lit)  \n",
    "    Total_sum_averages.append(total_avg) \n",
    "# 绘图\n",
    "import matplotlib.pyplot as plt\n",
    "plt.plot(range(1, 101), Total_sum_averages, marker='o',linestyle='-')\n",
    "plt.title(\"Total_sum_averages\")\n",
    "plt.xlabel(\"N\")\n",
    "plt.ylabel(\"Total Average Sum\")\n",
    "plt.grid(True)\n",
    "plt.show()\n",
    "\n",
    "### Note: 逻辑正确，但是上一题函数有误。图像应为在80后呈指数式暴增"
   ]
  },
  {
   "attachments": {},
   "cell_type": "markdown",
   "metadata": {},
   "source": [
    "Describe what you see. [ 一条递增的曲线 ]"
   ]
  },
  {
   "cell_type": "markdown",
   "metadata": {},
   "source": [
    "[ 4.1 利用循环N次生成一个含N个元素的列表；\n",
    "4.2 先生成子集，再计算平均值,输出为：结果是([[1], [2], [3], [1, 2], [2, 3], [1, 2, 3]], 12.0)\n",
    "4.3 先进行计算，再绘图，最后生成一个递增的曲线]"
   ]
  },
  {
   "cell_type": "markdown",
   "metadata": {},
   "source": [
    "# 5. Path counting\n",
    "\n",
    "**5.1 [5 points]** Create a matrix with `N` rows and `M` columns, fill the right-bottom corner and top-left corner cells with `1`, and randomly fill the rest of matrix with integer `0` or `1`."
   ]
  },
  {
   "cell_type": "code",
   "execution_count": 31,
   "metadata": {},
   "outputs": [
    {
     "name": "stdout",
     "output_type": "stream",
     "text": [
      "行数N= 6\n",
      "列数M= 6\n"
     ]
    },
    {
     "name": "stdout",
     "output_type": "stream",
     "text": [
      "[[1 1 1 0 0 0]\n",
      " [1 1 1 0 1 0]\n",
      " [0 0 1 1 1 0]\n",
      " [1 0 1 0 0 1]\n",
      " [0 1 0 1 1 1]\n",
      " [0 0 0 1 0 1]]\n"
     ]
    }
   ],
   "source": [
    "import numpy as np\n",
    "#Create a matrix with N rows and M columns\n",
    "def create_matrix(N,M):\n",
    "    #全为0\n",
    "    matrix = np.zeros((N,M), dtype=int)\n",
    "    #fill the right-bottom corner and top-left corner cells with 1\n",
    "    matrix[0,0] = 1  # 左上角\n",
    "    matrix[N-1,M-1] = 1  # 右下角\n",
    "    #其余部分随机填充\n",
    "    for i in range(N):\n",
    "        for j in range(M):\n",
    "            if (i==0 and j==0) or (i==N-1 and j==M-1):\n",
    "                continue  # 跳过已经填充的角落\n",
    "            matrix[i,j] = np.random.randint(0,2)  # 随机填充0或1\n",
    "    return matrix\n",
    "#使用\n",
    "result_matrix=create_matrix(int(input(\"行数N=\")), int(input(\"列数M=\")))\n",
    "print(result_matrix)"
   ]
  },
  {
   "cell_type": "markdown",
   "metadata": {},
   "source": [
    "**5.2 [25 points]** Consider a cell marked with `0` as a blockage or dead-end, and a cell marked with `1` is good to go. Write a function `Count_path` to count the total number of paths to reach the right-bottom corner cell from the top-left corner cell. \n",
    "\n",
    "**Notice:** for a given cell, you are **only allowed** to move either rightward or downward."
   ]
  },
  {
   "cell_type": "code",
   "execution_count": 4,
   "metadata": {},
   "outputs": [
    {
     "name": "stdout",
     "output_type": "stream",
     "text": [
      "路径总数: 0\n"
     ]
    }
   ],
   "source": [
    "def Count_path(matrix,x=0,y=0):\n",
    "    N,M=matrix.shape\n",
    "    #走不通，返回0\n",
    "    if x>=N or y>=M or matrix[x,y]==0:\n",
    "        return 0\n",
    "    #到达右下角，返回1\n",
    "    if x==N-1 and y==M-1:\n",
    "        return 1\n",
    "    # 继续向下和向右移动\n",
    "    return Count_path(matrix,x+1,y) + Count_path(matrix,x,y+1)  \n",
    "#计算路径总数\n",
    "result=Count_path(result_matrix)\n",
    "print(\"路径总数:\", result)"
   ]
  },
  {
   "cell_type": "markdown",
   "metadata": {},
   "source": [
    "**5.3 [5 points]** Let `N = 10, M = 8`, run `Count_path` for `1000` times, each time the matrix (except the right-bottom corner and top-left corner cells, which remain being `1`) is re-filled with integer `0` or `1` randomly, report the mean of total number of paths from the `1000` runs."
   ]
  },
  {
   "cell_type": "code",
   "execution_count": 51,
   "metadata": {},
   "outputs": [
    {
     "name": "stdout",
     "output_type": "stream",
     "text": [
      "路径总数列表: [0, 0, 0, 0, 0, 0, 0, 0, 0, 0, 0, 0, 0, 0, 0, 0, 0, 0, 0, 0, 0, 0, 0, 0, 0, 0, 0, 0, 0, 0, 0, 0, 0, 0, 0, 0, 0, 0, 0, 0, 0, 0, 0, 0, 0, 0, 0, 0, 0, 0, 0, 0, 0, 0, 8, 0, 0, 0, 0, 0, 0, 0, 0, 0, 0, 0, 0, 0, 0, 0, 0, 0, 0, 0, 0, 0, 0, 0, 0, 0, 0, 0, 0, 0, 0, 0, 0, 0, 0, 0, 0, 0, 0, 0, 0, 0, 0, 0, 0, 0, 0, 0, 0, 0, 0, 0, 0, 0, 0, 0, 0, 0, 0, 0, 0, 0, 0, 0, 0, 0, 0, 0, 0, 0, 0, 0, 0, 0, 0, 0, 0, 0, 0, 0, 0, 0, 0, 0, 0, 0, 0, 0, 0, 0, 0, 0, 0, 0, 0, 0, 0, 0, 0, 0, 0, 0, 0, 0, 0, 0, 0, 0, 0, 0, 0, 0, 0, 0, 0, 0, 0, 0, 0, 0, 0, 0, 0, 0, 0, 0, 0, 0, 0, 0, 0, 0, 0, 0, 0, 0, 0, 0, 0, 0, 0, 0, 0, 0, 0, 0, 0, 0, 0, 0, 0, 0, 0, 0, 0, 0, 0, 0, 18, 0, 0, 0, 0, 0, 0, 0, 0, 0, 0, 0, 0, 0, 0, 0, 0, 1, 0, 0, 0, 0, 0, 0, 0, 0, 0, 0, 0, 0, 0, 0, 0, 0, 0, 0, 0, 0, 0, 0, 0, 0, 0, 0, 0, 0, 0, 0, 0, 0, 0, 0, 23, 0, 0, 0, 0, 0, 0, 0, 0, 0, 0, 0, 0, 0, 0, 0, 0, 0, 0, 0, 0, 0, 0, 0, 0, 0, 0, 0, 0, 0, 0, 0, 0, 0, 0, 0, 0, 0, 0, 0, 0, 0, 0, 0, 0, 0, 0, 0, 0, 0, 0, 0, 0, 0, 0, 0, 0, 0, 0, 0, 0, 0, 0, 0, 0, 0, 0, 0, 0, 0, 0, 0, 0, 0, 0, 0, 0, 0, 0, 0, 0, 0, 0, 0, 0, 0, 0, 0, 0, 0, 0, 0, 0, 0, 0, 0, 0, 0, 0, 0, 0, 0, 0, 0, 0, 0, 0, 0, 0, 0, 0, 0, 0, 0, 0, 0, 0, 0, 0, 0, 2, 0, 0, 0, 12, 0, 0, 0, 0, 0, 0, 0, 0, 0, 0, 0, 0, 0, 0, 0, 0, 0, 0, 0, 0, 0, 0, 0, 0, 0, 0, 0, 6, 0, 0, 0, 0, 0, 0, 0, 5, 0, 0, 0, 0, 0, 0, 0, 0, 0, 0, 0, 0, 0, 0, 0, 0, 0, 0, 0, 0, 0, 0, 0, 0, 0, 0, 0, 0, 0, 0, 0, 0, 0, 0, 0, 0, 0, 0, 0, 0, 0, 0, 0, 0, 0, 0, 0, 0, 0, 0, 0, 0, 0, 0, 0, 0, 0, 0, 0, 0, 0, 0, 0, 0, 0, 0, 0, 0, 0, 0, 0, 0, 0, 0, 0, 2, 0, 0, 0, 0, 0, 0, 0, 0, 0, 0, 0, 0, 0, 0, 0, 0, 0, 0, 0, 0, 0, 0, 0, 0, 0, 0, 0, 0, 0, 0, 0, 0, 0, 0, 0, 0, 0, 0, 0, 0, 0, 0, 0, 0, 0, 0, 0, 0, 0, 0, 0, 0, 0, 0, 0, 0, 0, 0, 0, 0, 0, 0, 4, 0, 0, 0, 0, 0, 0, 0, 0, 0, 0, 0, 0, 0, 0, 0, 0, 0, 1, 0, 0, 0, 0, 0, 0, 0, 0, 0, 0, 0, 0, 0, 0, 0, 0, 0, 0, 0, 0, 0, 0, 0, 0, 0, 0, 0, 0, 0, 0, 0, 0, 0, 0, 0, 0, 0, 0, 0, 0, 0, 0, 0, 0, 0, 0, 0, 0, 0, 0, 0, 0, 0, 0, 0, 0, 0, 0, 0, 0, 0, 15, 0, 0, 0, 0, 4, 0, 0, 0, 0, 0, 0, 0, 0, 0, 0, 0, 0, 0, 0, 0, 0, 0, 0, 0, 0, 0, 0, 0, 0, 0, 0, 0, 0, 0, 0, 0, 0, 0, 0, 0, 0, 0, 0, 0, 0, 0, 0, 0, 0, 0, 0, 0, 0, 0, 0, 0, 0, 0, 0, 0, 0, 0, 0, 0, 0, 0, 0, 0, 5, 0, 0, 0, 0, 0, 0, 0, 0, 0, 0, 0, 0, 0, 0, 0, 0, 0, 0, 0, 0, 0, 0, 0, 0, 0, 0, 0, 0, 0, 0, 0, 0, 0, 0, 0, 0, 0, 0, 0, 0, 0, 0, 0, 0, 0, 0, 0, 0, 0, 0, 0, 0, 0, 0, 0, 0, 0, 0, 0, 0, 0, 0, 0, 0, 0, 0, 0, 0, 0, 248, 0, 0, 0, 0, 0, 0, 0, 0, 12, 0, 0, 0, 0, 0, 0, 0, 0, 0, 0, 0, 0, 0, 0, 0, 0, 5, 0, 0, 0, 0, 0, 0, 0, 0, 0, 0, 0, 0, 0, 0, 0, 0, 0, 0, 0, 0, 0, 0, 0, 0, 0, 0, 0, 0, 0, 0, 0, 0, 0, 0, 0, 0, 0, 0, 0, 0, 0, 0, 0, 0, 0, 0, 0, 0, 0, 0, 0, 0, 9, 0, 0, 0, 0, 0, 0, 0, 0, 0, 0, 0, 0, 0, 0, 0, 0, 0, 0, 0, 0, 0, 0, 0, 0, 0, 0, 0, 0, 0, 0, 0, 0, 0, 0, 0, 0, 0, 0, 0, 0, 0, 0, 0, 0, 0, 0, 0, 0, 0, 0, 0, 0, 0, 0, 0, 0, 0, 0, 0, 0, 0, 0, 0, 0, 0, 0, 0, 0, 0, 0, 0, 0, 0, 0, 0, 0, 0, 0, 0, 0, 0, 0, 0, 0, 0, 0, 0, 0, 0, 0, 0, 0, 0, 0, 0, 0, 0, 0, 0, 0, 0, 0, 0, 0, 0, 0, 0, 0, 0, 0, 0, 0, 0, 0, 0, 0, 0, 0, 0, 0, 0, 0, 0, 0, 0, 0, 0, 0, 0, 0, 0, 0, 0, 0, 0, 0, 4, 0]\n",
      "路径总数: 384\n"
     ]
    }
   ],
   "source": [
    "#运行Count_path1000次\n",
    "N = 10\n",
    "M = 8\n",
    "results = []\n",
    "#run Count_path for 1000 times\n",
    "for i in range(1000):\n",
    "    result_matrix = create_matrix(N,M)  #each time the matrix\n",
    "    path_new = Count_path(result_matrix)  #计算路径总数\n",
    "    results.append(path_new)  # 存储结果\n",
    "total_number=sum(results)\n",
    "#结果\n",
    "print(\"路径总数列表:\", results)\n",
    "print(\"路径总数:\", total_number)\n",
    "### Note: 注意题目最后是说要求平均值奥~"
   ]
  },
  {
   "cell_type": "markdown",
   "metadata": {},
   "source": [
    "Report the mean of total number of paths from the `1000` runs. [是个随机数]"
   ]
  },
  {
   "cell_type": "markdown",
   "metadata": {},
   "source": [
    "[ 5.1 先完成指定填充部分，剩下的用遍历随机填充0或1；\n",
    "5.2 当路走不通时，返回0，若能到达返回1；\n",
    "5.3 随机遍历1000次，用列表储存结果，最后计算列表总和]"
   ]
  }
 ],
 "metadata": {
  "kernelspec": {
   "display_name": "Python 3 (ipykernel)",
   "language": "python",
   "name": "python3"
  },
  "language_info": {
   "codemirror_mode": {
    "name": "ipython",
    "version": 3
   },
   "file_extension": ".py",
   "mimetype": "text/x-python",
   "name": "python",
   "nbconvert_exporter": "python",
   "pygments_lexer": "ipython3",
   "version": "3.12.4"
  }
 },
 "nbformat": 4,
 "nbformat_minor": 4
}
